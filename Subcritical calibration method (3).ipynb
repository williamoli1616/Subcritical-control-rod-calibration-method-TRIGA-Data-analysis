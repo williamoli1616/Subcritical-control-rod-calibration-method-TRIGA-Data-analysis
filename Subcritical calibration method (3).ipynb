{
 "cells": [
  {
   "cell_type": "code",
   "execution_count": 591,
   "id": "32049409",
   "metadata": {},
   "outputs": [],
   "source": [
    "#In this Python text i am going to analyze data from the TRIGA reactor in Pavia;\n",
    "#I want to characterize the reactivity control for SHIM, TRANS & REG worth using the Subcritical method\n",
    "import numpy as np\n",
    "from scipy.optimize import fsolve\n",
    "import matplotlib.pyplot as plt\n",
    "import sympy as sp"
   ]
  },
  {
   "cell_type": "code",
   "execution_count": 592,
   "id": "324fc1d4",
   "metadata": {},
   "outputs": [],
   "source": [
    "#Case 1 refers to:\n",
    "#REG IN\n",
    "#TRANS IN\n",
    "#SHIM IN\n",
    "#SOURCE OUT\n",
    "\n",
    "#This case refers to the Background case:\n",
    "\n",
    "\n",
    "#(All variables will have a subscript of 1)\n",
    "\n",
    "N_count_1 = [4,2,0]\n",
    "N_count_1 = np.array(N_count_1)\n",
    "std_count_1 = np.sqrt(N_count_1) #Since the measurmentes of the fission chamber are Poisson like i can take the standard deviation as the square root\n",
    "Mean_count_1 = sum(N_count_1)/(len(N_count_1)) #Mean count\n",
    "Mean_std_1 = np.sqrt(Mean_count_1/len(N_count_1)) #Mean standard deviation\n",
    "\n",
    "#Counting rate\n",
    "t = 100 #Counting time in seconds (s)\n",
    "N_count_cps_1 = [4,2,0]\n",
    "N_count_cps_1 = np.array(N_count_cps_1)/t\n",
    "std_count_cps_1 = np.sqrt(N_count_cps_1) \n",
    "Mean_count_cps_1 = sum(N_count_cps_1)/(len(N_count_1)) #Mean count in cps\n",
    "Mean_std_cps_1 = Mean_std_1/t\n",
    "\n",
    "\n",
    "\n"
   ]
  },
  {
   "cell_type": "code",
   "execution_count": 593,
   "id": "0aec61cf",
   "metadata": {},
   "outputs": [],
   "source": [
    "#Case 2 refers to:\n",
    "#REG IN\n",
    "#TRANS IN\n",
    "#SHIM IN\n",
    "#SOURCE IN\n",
    "\n",
    "#(All variables will have a subscript of 2)\n",
    "\n",
    "\n",
    "N_count_2 = [1002,1118,1079,1135,1006]\n",
    "N_count_2 = np.array(N_count_2)\n",
    "std_count_2 = np.sqrt(N_count_2) #Since the measurmentes of the fission chamber are Poisson like i can take the standard deviation as the square root\n",
    "Mean_count_2 = sum(N_count_2)/(len(N_count_2)) #Mean count\n",
    "Mean_std_2 = np.sqrt(Mean_count_2/len(N_count_2)) #Mean standard deviation\n",
    "\n",
    "#Counting rate\n",
    "t = 100 #Counting time in seconds (s)\n",
    "N_count_cps_2 = [1002,1118,1079,1135,1006]\n",
    "N_count_cps_2 = np.array(N_count_cps_2)/t\n",
    "std_count_cps_2 = np.sqrt(N_count_cps_2) \n",
    "Mean_count_cps_2 = sum(N_count_cps_2)/(len(N_count_cps_2)) #Mean count in cps\n",
    "Mean_std_cps_2 = Mean_std_2/t #Mean standard deviation in cps\n"
   ]
  },
  {
   "cell_type": "code",
   "execution_count": 594,
   "id": "652da4dd",
   "metadata": {},
   "outputs": [],
   "source": [
    "#Case 3 refers to:\n",
    "#REG OUT\n",
    "#TRANS IN\n",
    "#SHIM IN\n",
    "#SOURCE IN\n",
    "\n",
    "#(All variables will have a subscript of 3)\n",
    "\n",
    "\n",
    "N_count_3 = [1381,1580,1592,1497,1577]\n",
    "N_count_3 = np.array(N_count_3)\n",
    "std_count_3 = np.sqrt(N_count_3) #Since the measurmentes of the fission chamber are Poisson like i can take the standard deviation as the square root\n",
    "Mean_count_3 = sum(N_count_3)/(len(N_count_3)) #Mean count\n",
    "Mean_std_3 = np.sqrt(Mean_count_3/len(N_count_3))  #Mean standard deviation\n",
    "\n",
    "#Counting rate\n",
    "t = 100 #Counting time in seconds (s)\n",
    "N_count_cps_3 = [1381,1580,1592,1497,1577]\n",
    "N_count_cps_3 = np.array(N_count_cps_3)/t\n",
    "std_count_cps_3 = np.sqrt(N_count_cps_3) \n",
    "Mean_count_cps_3 = sum(N_count_cps_3)/(len(N_count_cps_3)) #Mean count in cps\n",
    "Mean_std_cps_3 = Mean_std_3/t #Mean standard deviation in cps\n"
   ]
  },
  {
   "cell_type": "code",
   "execution_count": 595,
   "id": "3e95cb4b",
   "metadata": {},
   "outputs": [],
   "source": [
    "#Case 4 refers to:\n",
    "#REG IN\n",
    "#TRANS OUT\n",
    "#SHIM IN\n",
    "#SOURCE IN\n",
    "\n",
    "#(All variables will have a subscript of 4)\n",
    "\n",
    "\n",
    "N_count_4 = [2578,2590,2431,2392,2482]\n",
    "N_count_4 = np.array(N_count_4)\n",
    "std_count_4 = np.sqrt(N_count_4) #Since the measurmentes of the fission chamber are Poisson like i can take the standard deviation as the square root\n",
    "Mean_count_4 = sum(N_count_4)/(len(N_count_4)) #Mean count\n",
    "Mean_std_4 = np.sqrt(Mean_count_4/len(N_count_4))  #Mean standard deviation\n",
    "\n",
    "#Counting rate\n",
    "t = 100 #Counting time in seconds (s)\n",
    "N_count_cps_4 = [2578,2590,2431,2392,2482]\n",
    "N_count_cps_4 = np.array(N_count_cps_4)/t\n",
    "std_count_cps_4 = np.sqrt(N_count_cps_4) \n",
    "Mean_count_cps_4 = sum(N_count_cps_4)/(len(N_count_cps_4)) #Mean count in cps\n",
    "Mean_std_cps_4 = Mean_std_4/t #Mean standard deviation in cps"
   ]
  },
  {
   "cell_type": "code",
   "execution_count": 596,
   "id": "5d630fbc",
   "metadata": {},
   "outputs": [],
   "source": [
    "#Case 5 refers to:\n",
    "#REG IN\n",
    "#TRANS IN\n",
    "#SHIM OUT\n",
    "#SOURCE IN\n",
    "\n",
    "#(All variables will have a subscript of 5)\n",
    "\n",
    "\n",
    "N_count_5 = [4440,4360,4340,4294,4447]\n",
    "N_count_5 = np.array(N_count_5)\n",
    "std_count_5 = np.sqrt(N_count_5) #Since the measurmentes of the fission chamber are Poisson like i can take the standard deviation as the square root\n",
    "Mean_count_5 = sum(N_count_5)/(len(N_count_5)) #Mean count\n",
    "Mean_std_5 = np.sqrt(Mean_count_5/len(N_count_5))  #Mean standard deviation\n",
    "\n",
    "#Counting rate\n",
    "t = 100 #Counting time in seconds (s)\n",
    "N_count_cps_5 = [4440,4360,4340,4294,4447]\n",
    "N_count_cps_5 = np.array(N_count_cps_5)/t\n",
    "std_count_cps_5 = np.sqrt(N_count_cps_5) \n",
    "Mean_count_cps_5 = sum(N_count_cps_5)/(len(N_count_cps_5)) #Mean count in cps\n",
    "Mean_std_cps_5 = Mean_std_5/t #Mean standard deviation in cps\n",
    "\n"
   ]
  },
  {
   "cell_type": "code",
   "execution_count": 636,
   "id": "ab082386",
   "metadata": {},
   "outputs": [
    {
     "name": "stdout",
     "output_type": "stream",
     "text": [
      "The multiplication factor is [0.98069308]\n",
      "rho_reg_out [-0.01968701]\n",
      "rho-all-in [-0.02837401]\n",
      "M all in [36.24351974]\n",
      "Calibration factor is  [0.29412154]\n",
      "Multiplication of the REG is [51.79491367]\n",
      "Multiplication of the SHIM is [148.7208293]\n",
      "Multiplication of the TRANS is [84.74727702]\n",
      "The control worth of the REG in dollars is [1.19]\n",
      "The control worth of the SHIM in dollars is [2.95951842]\n",
      "The control worth of the TRANS in dollars is [2.25114024]\n"
     ]
    }
   ],
   "source": [
    "#All calculations regarding the next parameters will be performed on the basis of the mean values of counts\n",
    "\n",
    "#REG OUT/#ALL IN\n",
    "beta = 0.0073\n",
    "CRW_Reg = 1.19*beta\n",
    "gamma = (Mean_count_cps_3-Mean_count_cps_1)/(Mean_count_cps_2-Mean_count_cps_1)\n",
    "def function(rho_all_in):\n",
    "    return gamma*(rho_all_in-1)*(CRW_Reg+rho_all_in) - (CRW_Reg+rho_all_in-1)*rho_all_in \n",
    "\n",
    "rho_all_in_zero = -0.05\n",
    "rho_all_IN = fsolve(function, rho_all_in_zero)    \n",
    "M_all_in = (rho_all_IN-1)/rho_all_IN\n",
    "alpha_phi_s = (Mean_count_cps_2-Mean_count_cps_1)/(M_all_in)\n",
    "\n",
    "#Determine CRW for: REG_OUT, SHIM_OUT, TRANS_OUT\n",
    "M_reg_out = (Mean_count_cps_3-Mean_count_cps_1)/alpha_phi_s\n",
    "M_trans_out = (Mean_count_cps_4-Mean_count_cps_1)/alpha_phi_s\n",
    "M_shim_out = (Mean_count_cps_5-Mean_count_cps_1)/alpha_phi_s\n",
    "rho_reg_out = 1/(1-M_reg_out)\n",
    "rho_shim_out = 1/(1-M_shim_out)\n",
    "rho_trans_out = 1/(1-M_trans_out)\n",
    "CRW_ALL_IN = 0\n",
    "CRW_REG = (rho_reg_out- rho_all_IN)/beta\n",
    "CRW_SHIM = (rho_shim_out - rho_all_IN)/beta\n",
    "CRW_TRANS = (rho_trans_out - rho_all_IN)/beta\n",
    "k = 1/(1-rho_reg_out)\n",
    "\n",
    "print(\"The multiplication factor is\", k)\n",
    "print(\"rho_reg_out\",rho_reg_out)\n",
    "print(\"rho-all-in\",rho_all_IN)\n",
    "print(\"M all in\",M_all_in)\n",
    "print(\"Calibration factor is \",alpha_phi_s)\n",
    "print(\"Multiplication of the REG is\",M_reg_out)\n",
    "print(\"Multiplication of the SHIM is\",M_shim_out)\n",
    "print(\"Multiplication of the TRANS is\",M_trans_out)\n",
    "print(\"The control worth of the REG in dollars is\",CRW_REG)\n",
    "print(\"The control worth of the SHIM in dollars is\",CRW_SHIM)\n",
    "print(\"The control worth of the TRANS in dollars is\",CRW_TRANS)\n"
   ]
  },
  {
   "cell_type": "code",
   "execution_count": 634,
   "id": "1f8b9597",
   "metadata": {},
   "outputs": [
    {
     "name": "stdout",
     "output_type": "stream",
     "text": [
      "The multiplication factor is [0.98830677]\n",
      "rho_trans_out [-0.01183158]\n",
      "rho-all-in [-0.02811058]\n",
      "M all in [36.57379003]\n",
      "Calibration factor is  [0.29146555]\n",
      "Multiplication of the REG is [52.26689655]\n",
      "Multiplication of the SHIM is [150.07605285]\n",
      "Multiplication of the TRANS is [85.51953942]\n",
      "The control worth of the REG in dollars is [1.17874238]\n",
      "The control worth of the SHIM in dollars is [2.93186276]\n",
      "The control worth of the TRANS in dollars is [2.23]\n"
     ]
    }
   ],
   "source": [
    "#All calculations regarding the next parameters will be performed on the basis of the mean values of counts\n",
    "\n",
    "#TRANS OUT/#ALL IN\n",
    "beta = 0.0073\n",
    "CRW_Trans = 2.23*beta\n",
    "gamma = (Mean_count_cps_4-Mean_count_cps_1)/(Mean_count_cps_2-Mean_count_cps_1)\n",
    "def function(rho_all_in):\n",
    "    return gamma*(rho_all_in-1)*(CRW_Trans+rho_all_in) - (CRW_Trans+rho_all_in-1)*rho_all_in \n",
    "\n",
    "rho_all_in_zero = -0.05\n",
    "rho_all_IN = fsolve(function, rho_all_in_zero)    \n",
    "M_all_in = (rho_all_IN-1)/rho_all_IN\n",
    "alpha_phi_s = (Mean_count_cps_2-Mean_count_cps_1)/(M_all_in)\n",
    "\n",
    "#Determine CRW for: REG_OUT, SHIM_OUT, TRANS_OUT\n",
    "M_reg_out = (Mean_count_cps_3-Mean_count_cps_1)/alpha_phi_s\n",
    "M_shim_out = (Mean_count_cps_5-Mean_count_cps_1)/alpha_phi_s\n",
    "M_trans_out = (Mean_count_cps_4-Mean_count_cps_1)/alpha_phi_s\n",
    "rho_reg_out = 1/(1-M_reg_out)\n",
    "rho_shim_out = 1/(1-M_shim_out)\n",
    "rho_trans_out = 1/(1-M_trans_out)\n",
    "CRW_ALL_IN = 0\n",
    "CRW_REG = (rho_reg_out- rho_all_IN)/beta\n",
    "CRW_SHIM = (rho_shim_out - rho_all_IN)/beta\n",
    "CRW_TRANS = (rho_trans_out - rho_all_IN)/beta\n",
    "\n",
    "k = 1/(1-rho_trans_out)\n",
    "\n",
    "print(\"The multiplication factor is\",k)\n",
    "print(\"rho_trans_out\",rho_trans_out)\n",
    "print(\"rho-all-in\",rho_all_IN)\n",
    "print(\"M all in\",M_all_in)\n",
    "print(\"Calibration factor is \",alpha_phi_s)\n",
    "print(\"Multiplication of the REG is\",M_reg_out)\n",
    "print(\"Multiplication of the SHIM is\",M_shim_out)\n",
    "print(\"Multiplication of the TRANS is\",M_trans_out)\n",
    "print(\"The control worth of the REG in dollars is\",CRW_REG)\n",
    "print(\"The control worth of the SHIM in dollars is\",CRW_SHIM)\n",
    "print(\"The control worth of the TRANS in dollars is\",CRW_TRANS)\n"
   ]
  },
  {
   "cell_type": "code",
   "execution_count": 635,
   "id": "d7debc55",
   "metadata": {},
   "outputs": [
    {
     "name": "stdout",
     "output_type": "stream",
     "text": [
      "The multiplication factor is [0.99270597]\n",
      "rho_shim_out [-0.00734763]\n",
      "rho-all-in [-0.03085363]\n",
      "M all in [33.41109901]\n",
      "Calibration factor is  [0.31905565]\n",
      "Multiplication of the REG is [47.74715594]\n",
      "Multiplication of the SHIM is [137.09833891]\n",
      "Multiplication of the TRANS is [78.12430149]\n",
      "The control worth of the REG in dollars is [1.29615788]\n",
      "The control worth of the SHIM in dollars is [3.22]\n",
      "The control worth of the TRANS in dollars is [2.45034883]\n"
     ]
    }
   ],
   "source": [
    "#SHIM OUT/#ALL IN\n",
    "beta = 0.0073\n",
    "CRW_Shim = 3.22*beta\n",
    "gamma = (Mean_count_cps_5-Mean_count_cps_1)/(Mean_count_cps_2-Mean_count_cps_1)\n",
    "def function(rho_all_in):\n",
    "    return gamma*(rho_all_in-1)*(CRW_Shim+rho_all_in) - (CRW_Shim+rho_all_in-1)*rho_all_in \n",
    "\n",
    "rho_all_in_zero = -0.05\n",
    "rho_all_IN = fsolve(function, rho_all_in_zero)    \n",
    "M_all_in = (rho_all_IN-1)/rho_all_IN\n",
    "alpha_phi_s = (Mean_count_cps_2-Mean_count_cps_1)/(M_all_in)\n",
    "\n",
    "#Determine CRW for: REG_OUT, SHIM_OUT, TRANS_OUT\n",
    "M_reg_out = (Mean_count_cps_3-Mean_count_cps_1)/alpha_phi_s\n",
    "M_shim_out = (Mean_count_cps_5-Mean_count_cps_1)/alpha_phi_s\n",
    "M_trans_out = (Mean_count_cps_4-Mean_count_cps_1)/alpha_phi_s\n",
    "rho_reg_out = 1/(1-M_reg_out)\n",
    "rho_shim_out = 1/(1-M_shim_out)\n",
    "rho_trans_out = 1/(1-M_trans_out)\n",
    "CRW_ALL_IN = 0\n",
    "CRW_REG = (rho_reg_out- rho_all_IN)/beta\n",
    "CRW_SHIM = (rho_shim_out - rho_all_IN)/beta\n",
    "CRW_TRANS = (rho_trans_out - rho_all_IN)/beta\n",
    "\n",
    "\n",
    "k = 1/(1-rho_shim_out)\n",
    "\n",
    "print(\"The multiplication factor is\",k)\n",
    "print(\"rho_shim_out\",rho_shim_out)\n",
    "print(\"rho-all-in\",rho_all_IN)\n",
    "print(\"M all in\",M_all_in)\n",
    "print(\"Calibration factor is \",alpha_phi_s)\n",
    "print(\"Multiplication of the REG is\",M_reg_out)\n",
    "print(\"Multiplication of the SHIM is\",M_shim_out)\n",
    "print(\"Multiplication of the TRANS is\",M_trans_out)\n",
    "print(\"The control worth of the REG in dollars is\",CRW_REG)\n",
    "print(\"The control worth of the SHIM in dollars is\",CRW_SHIM)\n",
    "print(\"The control worth of the TRANS in dollars is\",CRW_TRANS)\n"
   ]
  },
  {
   "cell_type": "markdown",
   "id": "56219060",
   "metadata": {},
   "source": [
    "# UNCERTAINTY ANALYSIS:\n",
    "In order to run the analysis we must choose the specific reference from which we wish to compute the uncertainty of CRW. \n",
    "We run the code below since it is mandatory, we then choose a reference condition and we run it we \n",
    "then skip the other reference conditions. Below there is the other mandatory part of the code:"
   ]
  },
  {
   "cell_type": "code",
   "execution_count": 600,
   "id": "ff608ea0",
   "metadata": {},
   "outputs": [],
   "source": [
    "#Uncertainty analysis for the subcritical method. \n",
    "#Uncertainties propagate starting from one variable to another:\n",
    "\n",
    "#CR_reg_out_misured-CR_background = CR_reg_out\n",
    "#CR_all_in_misured-CR_background = CR_all_in\n",
    "#CR_reg_out/CR_all_in----> rho_all_in\n",
    "#rho_all_in---> M_all_in\n",
    "#M_all_in---> alfa_phi_s\n",
    "#alfa_phi_s---> M_reg_out\n",
    "#M_reg_out---> rho_reg_out\n",
    "#rho_reg_out--->CRW_Reg_out\n"
   ]
  },
  {
   "cell_type": "markdown",
   "id": "46735df5",
   "metadata": {},
   "source": [
    "# This code must be Runned regardless of the reference:\n"
   ]
  },
  {
   "cell_type": "code",
   "execution_count": 601,
   "id": "2849a56d",
   "metadata": {},
   "outputs": [
    {
     "name": "stdout",
     "output_type": "stream",
     "text": [
      "Standard deviation of CR_reg_out is: 0.17485613133849973\n",
      "CR_reg_out_PLUS: 15.428856131338499\n",
      "CR_reg_out_MINUS: 15.0791438686615\n",
      "CR_reg_out: 15.254 ± 0.17485613133849973\n"
     ]
    },
    {
     "data": {
      "text/latex": [
       "$\\displaystyle - CR_{background} + CR_{reg out Misured}$"
      ],
      "text/plain": [
       "-CR_background + CR_reg_out_Misured"
      ]
     },
     "execution_count": 601,
     "metadata": {},
     "output_type": "execute_result"
    }
   ],
   "source": [
    "#Propagation of uncertainty of the Background count. Correcting CR_reg_out with the CR_background\n",
    "\n",
    "x = sp.symbols('CR_reg_out_Misured')\n",
    "y = sp.symbols('CR_background')\n",
    "f =  x-y\n",
    "x_prime = sp.diff(f, x) #Partial derivative of CR_reg_out respect to CR_reg_out_misured\n",
    "y_prime = sp.diff(f,y) #Partial derivative of CR_reg_out respect to CR_background\n",
    "\n",
    "partial_CR_reg_out_CR_reg_misured = 1\n",
    "partial_CR_reg_out_CR_background = -1\n",
    "\n",
    "std_CR_reg_out = ((partial_CR_reg_out_CR_reg_misured*Mean_std_cps_3)**2 + (partial_CR_reg_out_CR_background*Mean_std_cps_1)**2)**(1/2)\n",
    "\n",
    "CR_reg_out_PLUS = Mean_count_cps_3+std_CR_reg_out\n",
    "CR_reg_out_MINUS = Mean_count_cps_3-std_CR_reg_out\n",
    "\n",
    "print(\"Standard deviation of CR_reg_out is:\",std_CR_reg_out)\n",
    "print(\"CR_reg_out_PLUS:\",CR_reg_out_PLUS)\n",
    "print(\"CR_reg_out_MINUS:\",CR_reg_out_MINUS)\n",
    "print('CR_reg_out:',Mean_count_cps_3, '±',std_CR_reg_out)\n",
    "f"
   ]
  },
  {
   "cell_type": "code",
   "execution_count": 602,
   "id": "89cf597c",
   "metadata": {},
   "outputs": [
    {
     "name": "stdout",
     "output_type": "stream",
     "text": [
      "Standard deviation of CR_trans_out is: 0.22351435449802026\n",
      "CR_trans_out_PLUS: 25.16951435449802\n",
      "CR_trans_out_MINUS: 24.722485645501976\n",
      "CR_trans_out: 24.945999999999998 ± 0.22351435449802026\n"
     ]
    },
    {
     "data": {
      "text/latex": [
       "$\\displaystyle - CR_{background} + CR_{trans out Misured}$"
      ],
      "text/plain": [
       "-CR_background + CR_trans_out_Misured"
      ]
     },
     "execution_count": 602,
     "metadata": {},
     "output_type": "execute_result"
    }
   ],
   "source": [
    "#Propagation of uncertainty of the Background count. Correcting CR_trans_out with the CR_background\n",
    "\n",
    "x = sp.symbols('CR_trans_out_Misured')\n",
    "y = sp.symbols('CR_background')\n",
    "f =  x-y\n",
    "x_prime = sp.diff(f, x) #Partial derivative of CR_trans_out respect to CR_trans_out_misured\n",
    "y_prime = sp.diff(f,y) #Partial derivative of CR_trans_out respect to CR_background\n",
    "\n",
    "partial_CR_trans_out_CR_trans_misured = 1\n",
    "partial_CR_trans_out_CR_background = -1\n",
    "\n",
    "std_CR_trans_out = ((partial_CR_trans_out_CR_trans_misured*Mean_std_cps_4)**2 + (partial_CR_trans_out_CR_background*Mean_std_cps_1)**2)**(1/2)\n",
    "\n",
    "CR_trans_out_PLUS = Mean_count_cps_4+std_CR_trans_out\n",
    "CR_trans_out_MINUS = Mean_count_cps_4-std_CR_trans_out\n",
    "\n",
    "print(\"Standard deviation of CR_trans_out is:\",std_CR_trans_out)\n",
    "print(\"CR_trans_out_PLUS:\",CR_trans_out_PLUS)\n",
    "print(\"CR_trans_out_MINUS:\",CR_trans_out_MINUS)\n",
    "print('CR_trans_out:',Mean_count_cps_4, '±',std_CR_trans_out)\n",
    "f"
   ]
  },
  {
   "cell_type": "code",
   "execution_count": 603,
   "id": "ec18206c",
   "metadata": {},
   "outputs": [
    {
     "name": "stdout",
     "output_type": "stream",
     "text": [
      "Standard deviation of CR_shim_out is: 0.2959572041134776\n",
      "CR_shim_out_PLUS: 44.05795720411348\n",
      "CR_shim_out_MINUS: 43.46604279588652\n",
      "CR_shim_out: 43.762 ± 0.2959572041134776\n"
     ]
    },
    {
     "data": {
      "text/latex": [
       "$\\displaystyle - CR_{background} + CR_{shim out Misured}$"
      ],
      "text/plain": [
       "-CR_background + CR_shim_out_Misured"
      ]
     },
     "execution_count": 603,
     "metadata": {},
     "output_type": "execute_result"
    }
   ],
   "source": [
    "#Propagation of uncertainty of the Background count. Correcting CR_shim_out with the CR_background\n",
    "\n",
    "x = sp.symbols('CR_shim_out_Misured')\n",
    "y = sp.symbols('CR_background')\n",
    "f =  x-y\n",
    "x_prime = sp.diff(f, x) #Partial derivative of CR_shim_out respect to CR_shim_out_misured\n",
    "y_prime = sp.diff(f,y) #Partial derivative of CR_shim_out respect to CR_background\n",
    "\n",
    "partial_CR_shim_out_CR_shim_misured = 1\n",
    "partial_CR_shim_out_CR_background = -1\n",
    "\n",
    "std_CR_shim_out = ((partial_CR_shim_out_CR_shim_misured*Mean_std_cps_5)**2 + (partial_CR_shim_out_CR_background*Mean_std_cps_1)**2)**(1/2)\n",
    "\n",
    "CR_shim_out_PLUS = Mean_count_cps_5+std_CR_shim_out\n",
    "CR_shim_out_MINUS = Mean_count_cps_5-std_CR_shim_out\n",
    "\n",
    "print(\"Standard deviation of CR_shim_out is:\",std_CR_shim_out)\n",
    "print(\"CR_shim_out_PLUS:\",CR_shim_out_PLUS)\n",
    "print(\"CR_shim_out_MINUS:\",CR_shim_out_MINUS)\n",
    "print('CR_shim_out:',Mean_count_cps_5, '±',std_CR_shim_out)\n",
    "f"
   ]
  },
  {
   "cell_type": "code",
   "execution_count": 604,
   "id": "8cc772e4",
   "metadata": {},
   "outputs": [
    {
     "name": "stdout",
     "output_type": "stream",
     "text": [
      "Standard deviation of CR_all_in is: 0.14637850479720943\n",
      "CR_all_in_PLUS: 10.826378504797209\n",
      "CR_all_in_MINUS: 10.533621495202791\n",
      "CR_all_in: 10.68 ± 0.14637850479720943\n"
     ]
    },
    {
     "data": {
      "text/latex": [
       "$\\displaystyle CR_{all in Misured} - CR_{background}$"
      ],
      "text/plain": [
       "CR_all_in_Misured - CR_background"
      ]
     },
     "execution_count": 604,
     "metadata": {},
     "output_type": "execute_result"
    }
   ],
   "source": [
    "#Propagation of uncertainty of the Background count. Correcting CR_all_in with the CR_background\n",
    "\n",
    "x = sp.symbols('CR_all_in_Misured')\n",
    "y = sp.symbols('CR_background')\n",
    "f =  x-y\n",
    "x_prime = sp.diff(f, x) #Partial derivative of CR_all_in respect to CR_all_in_misured\n",
    "y_prime = sp.diff(f,y) #Partial derivative of CR_all_in respect to CR_background\n",
    "\n",
    "partial_CR_all_in_CR_all_in_misured = 1\n",
    "partial_CR_all_in_CR_background = -1\n",
    "\n",
    "std_CR_all_in = ((partial_CR_all_in_CR_all_in_misured*Mean_std_cps_2)**2 + (partial_CR_all_in_CR_background *Mean_std_cps_1)**2)**(1/2)\n",
    "\n",
    "CR_all_in_PLUS = Mean_count_cps_2+std_CR_all_in\n",
    "CR_all_in_MINUS = Mean_count_cps_2-std_CR_all_in\n",
    "\n",
    "print(\"Standard deviation of CR_all_in is:\",std_CR_all_in)\n",
    "print(\"CR_all_in_PLUS:\",CR_all_in_PLUS)\n",
    "print(\"CR_all_in_MINUS:\",CR_all_in_MINUS)\n",
    "print('CR_all_in:',Mean_count_cps_2, '±',std_CR_all_in)\n",
    "f"
   ]
  },
  {
   "cell_type": "markdown",
   "id": "581385d4",
   "metadata": {},
   "source": [
    "# REG reference: If we wish to compute all CRW of Reg, Trans, Shim respect to the REG reference then this is the code that must be runned:\n",
    "\n"
   ]
  },
  {
   "cell_type": "code",
   "execution_count": 565,
   "id": "8d9a438f",
   "metadata": {},
   "outputs": [
    {
     "name": "stdout",
     "output_type": "stream",
     "text": [
      "Calibration factor is  [0.29412154]\n",
      "Multiplication of the REG is [51.79491367]\n",
      "Multiplication of the SHIM is [148.7208293]\n",
      "Multiplication of the TRANS is [84.74727702]\n",
      "The control worth of the REG in dollars is [1.19]\n",
      "The control worth of the SHIM in dollars is [2.95951842]\n",
      "The control worth of the TRANS in dollars is [2.25114024]\n"
     ]
    }
   ],
   "source": [
    "#All calculations regarding the next parameters will be performed on the basis of the mean values of counts\n",
    "\n",
    "#REG OUT/#ALL IN\n",
    "beta = 0.0073\n",
    "CRW_Reg = 1.19*beta\n",
    "gamma = (Mean_count_cps_3-Mean_count_cps_1)/(Mean_count_cps_2-Mean_count_cps_1)\n",
    "def function(rho_all_in):\n",
    "    return gamma*(rho_all_in-1)*(CRW_Reg+rho_all_in) - (CRW_Reg+rho_all_in-1)*rho_all_in \n",
    "\n",
    "rho_all_in_zero = -0.05\n",
    "rho_all_IN = fsolve(function, rho_all_in_zero)    \n",
    "M_all_in = (rho_all_IN-1)/rho_all_IN\n",
    "alpha_phi_s = (Mean_count_cps_2-Mean_count_cps_1)/(M_all_in)\n",
    "\n",
    "#Determine CRW for: REG_OUT, SHIM_OUT, TRANS_OUT\n",
    "M_reg_out = (Mean_count_cps_3-Mean_count_cps_1)/alpha_phi_s\n",
    "M_trans_out = (Mean_count_cps_4-Mean_count_cps_1)/alpha_phi_s\n",
    "M_shim_out = (Mean_count_cps_5-Mean_count_cps_1)/alpha_phi_s\n",
    "rho_reg_out = 1/(1-M_reg_out)\n",
    "rho_shim_out = 1/(1-M_shim_out)\n",
    "rho_trans_out = 1/(1-M_trans_out)\n",
    "CRW_ALL_IN = 0\n",
    "CRW_REG = (rho_reg_out- rho_all_IN)/beta\n",
    "CRW_SHIM = (rho_shim_out - rho_all_IN)/beta\n",
    "CRW_TRANS = (rho_trans_out - rho_all_IN)/beta\n",
    "\n",
    "\n",
    "print(\"Calibration factor is \",alpha_phi_s)\n",
    "print(\"Multiplication of the REG is\",M_reg_out)\n",
    "print(\"Multiplication of the SHIM is\",M_shim_out)\n",
    "print(\"Multiplication of the TRANS is\",M_trans_out)\n",
    "print(\"The control worth of the REG in dollars is\",CRW_REG)\n",
    "print(\"The control worth of the SHIM in dollars is\",CRW_SHIM)\n",
    "print(\"The control worth of the TRANS in dollars is\",CRW_TRANS)\n"
   ]
  },
  {
   "cell_type": "code",
   "execution_count": 566,
   "id": "e30b9df8",
   "metadata": {},
   "outputs": [
    {
     "name": "stdout",
     "output_type": "stream",
     "text": [
      "Standard deviation of rho_all_in is: 0.000963064503658394\n",
      "Rho_all_in_PLUS: -0.0274109460218665\n",
      "Rho_all_in_MINUS: -0.0293370750291832\n",
      "rho_all_IN: -0.028374010525524854 ± 0.000963064503658394\n"
     ]
    }
   ],
   "source": [
    "#CR_reg_out/CR_all_in----> rho_all_in\n",
    "\n",
    "x = sp.symbols('CR_reg_out')\n",
    "y = sp.symbols('CR_all_in')\n",
    "A = CRW_Reg\n",
    "f = (-x/y*A + x/y + A -1 -((x/y*A -x/y - A+1)**2 + 4*(x/y -1)*(A*x/y))**(1/2))/(2*(x/y-1))\n",
    "x_prime = sp.diff(f, x) #Partial derivative of rho_all_in respect to CR_reg_out\n",
    "y_prime = sp.diff(f,y) #Partial derivative of rho_all_in respect to CR_all_in\n",
    "x_value = Mean_count_cps_3-Mean_count_cps_1 #Count rate for CR_reg_out\n",
    "y_value = Mean_count_cps_2-Mean_count_cps_1 #Count rate for CR_all_in\n",
    "partial_rho_all_in_CR_reg_out = x_prime.subs({x:x_value,y:y_value})\n",
    "partial_rho_all_in_CR_all_in = y_prime.subs({x:x_value, y:y_value})\n",
    "\n",
    "std_rho_all_in = ((partial_rho_all_in_CR_reg_out*std_CR_reg_out)**2 + (partial_rho_all_in_CR_reg_out*std_CR_all_in)**2)**(1/2)\n",
    "\n",
    "rho_all_in_PLUS = rho_all_IN+std_rho_all_in\n",
    "rho_all_in_MINUS = rho_all_IN-std_rho_all_in\n",
    "\n",
    "print(\"Standard deviation of rho_all_in is:\",std_rho_all_in)\n",
    "print(\"Rho_all_in_PLUS:\",rho_all_in_PLUS[0])\n",
    "print(\"Rho_all_in_MINUS:\",rho_all_in_MINUS[0])\n",
    "print('rho_all_IN:',rho_all_IN[0], '±',std_rho_all_in)\n",
    "f\n",
    "i=1"
   ]
  },
  {
   "cell_type": "code",
   "execution_count": 567,
   "id": "a083e4b9",
   "metadata": {},
   "outputs": [
    {
     "name": "stdout",
     "output_type": "stream",
     "text": [
      "Standard deviation of M_all_in: 1.19622789358704\n",
      "M_all_in_PLUS: 37.4397476314970\n",
      "M_all_in_MINUS: 35.0472918443229\n",
      "M_all_in: 36.24351973790995 ± 1.19622789358704\n"
     ]
    },
    {
     "data": {
      "text/latex": [
       "$\\displaystyle \\frac{\\rho_{all in} - 1}{\\rho_{all in}}$"
      ],
      "text/plain": [
       "(rho_all_in - 1)/rho_all_in"
      ]
     },
     "execution_count": 567,
     "metadata": {},
     "output_type": "execute_result"
    }
   ],
   "source": [
    "#rho_all_in---> M_all_in\n",
    "\n",
    "x = sp.symbols('rho_all_in')\n",
    "f = (x-1)/x\n",
    "x_prime = sp.diff(f, x) #Derivative of M_all_in respect to rho_all_in\n",
    "x_value = rho_all_IN[0]\n",
    "partial_M_all_in_rho_all_in = x_prime.subs(x,x_value)\n",
    "\n",
    "std_M_all_in = partial_M_all_in_rho_all_in*std_rho_all_in\n",
    "\n",
    "std_M_all_in_PLUS = M_all_in+std_M_all_in\n",
    "std_M_all_in_MINUS = M_all_in-std_M_all_in\n",
    "\n",
    "print(\"Standard deviation of M_all_in:\",std_M_all_in)\n",
    "print(\"M_all_in_PLUS:\",std_M_all_in_PLUS[0])\n",
    "print(\"M_all_in_MINUS:\",std_M_all_in_MINUS[0])\n",
    "print('M_all_in:',M_all_in[0], '±',std_M_all_in)\n",
    "f"
   ]
  },
  {
   "cell_type": "code",
   "execution_count": 568,
   "id": "38942569",
   "metadata": {},
   "outputs": [
    {
     "name": "stdout",
     "output_type": "stream",
     "text": [
      "Standard deviation of alphaphi_s: 0.0105141978260043\n",
      "alphaphi_PLUS: 0.304635742231358\n",
      "alphaphi_MINUS 0.283607346579350\n",
      "alpha_phi_s: 0.2941215444053539 ± 0.0105141978260043\n"
     ]
    },
    {
     "data": {
      "text/latex": [
       "$\\displaystyle \\frac{CR_{all in}}{M_{all in}}$"
      ],
      "text/plain": [
       "CR_all_in/M_all_in"
      ]
     },
     "execution_count": 568,
     "metadata": {},
     "output_type": "execute_result"
    }
   ],
   "source": [
    "#M_all_in---> alfa_phi_s\n",
    "\n",
    "\n",
    "x = sp.symbols('CR_all_in')\n",
    "y = sp.symbols('M_all_in')\n",
    "f = x/y\n",
    "x_prime = sp.diff(f, x) #Partial derivative of alpha_phi_s respect to M_all_in\n",
    "y_prime = sp.diff(f,y) #Partial derivative of alpha_phi_s respect to CR_all_in\n",
    "x_value = Mean_count_cps_2-Mean_count_cps_1 #CR_all_in\n",
    "y_value = M_all_in[0]\n",
    "partial_alphaphi_s_CR_all_in = x_prime.subs({x:x_value, y:y_value})\n",
    "partial_alphaphi_s_M_all_in = y_prime.subs({x:x_value, y:y_value})\n",
    "\n",
    "std_alphaphi_s = ((partial_alphaphi_s_M_all_in*std_M_all_in)**2 + (partial_alphaphi_s_CR_all_in*std_CR_all_in)**2)**(1/2)\n",
    "\n",
    "alphaphi_s_PLUS = alpha_phi_s+std_alphaphi_s\n",
    "alphaphi_s_MINUS = alpha_phi_s-std_alphaphi_s\n",
    "\n",
    "print(\"Standard deviation of alphaphi_s:\",std_alphaphi_s)\n",
    "print(\"alphaphi_PLUS:\",alphaphi_s_PLUS[0])\n",
    "print(\"alphaphi_MINUS\",alphaphi_s_MINUS[0])\n",
    "print('alpha_phi_s:',alpha_phi_s[0], '±',std_alphaphi_s)\n",
    "f"
   ]
  },
  {
   "cell_type": "markdown",
   "id": "a07485a3",
   "metadata": {},
   "source": [
    "# TRANS reference: If we wish to compute all CRW of Reg, Trans, Shim respect to the TRANS reference then this is the code that must be runned:"
   ]
  },
  {
   "cell_type": "code",
   "execution_count": 529,
   "id": "05f600e2",
   "metadata": {},
   "outputs": [
    {
     "name": "stdout",
     "output_type": "stream",
     "text": [
      "Calibration factor is  [0.29146555]\n",
      "Multiplication of the REG is [52.26689655]\n",
      "Multiplication of the SHIM is [150.07605285]\n",
      "Multiplication of the TRANS is [85.51953942]\n",
      "The control worth of the REG in dollars is [1.17874238]\n",
      "The control worth of the SHIM in dollars is [2.93186276]\n",
      "The control worth of the TRANS in dollars is [2.23]\n"
     ]
    }
   ],
   "source": [
    "#All calculations regarding the next parameters will be performed on the basis of the mean values of counts\n",
    "\n",
    "#TRANS OUT/#ALL IN\n",
    "beta = 0.0073\n",
    "CRW_Trans = 2.23*beta\n",
    "gamma = (Mean_count_cps_4-Mean_count_cps_1)/(Mean_count_cps_2-Mean_count_cps_1)\n",
    "def function(rho_all_in):\n",
    "    return gamma*(rho_all_in-1)*(CRW_Trans+rho_all_in) - (CRW_Trans+rho_all_in-1)*rho_all_in \n",
    "\n",
    "rho_all_in_zero = -0.05\n",
    "rho_all_IN = fsolve(function, rho_all_in_zero)    \n",
    "M_all_in = (rho_all_IN-1)/rho_all_IN\n",
    "alpha_phi_s = (Mean_count_cps_2-Mean_count_cps_1)/(M_all_in)\n",
    "\n",
    "#Determine CRW for: REG_OUT, SHIM_OUT, TRANS_OUT\n",
    "M_reg_out = (Mean_count_cps_3-Mean_count_cps_1)/alpha_phi_s\n",
    "M_shim_out = (Mean_count_cps_5-Mean_count_cps_1)/alpha_phi_s\n",
    "M_trans_out = (Mean_count_cps_4-Mean_count_cps_1)/alpha_phi_s\n",
    "rho_reg_out = 1/(1-M_reg_out)\n",
    "rho_shim_out = 1/(1-M_shim_out)\n",
    "rho_trans_out = 1/(1-M_trans_out)\n",
    "CRW_ALL_IN = 0\n",
    "CRW_REG = (rho_reg_out- rho_all_IN)/beta\n",
    "CRW_SHIM = (rho_shim_out - rho_all_IN)/beta\n",
    "CRW_TRANS = (rho_trans_out - rho_all_IN)/beta\n",
    "\n",
    "print(\"Calibration factor is \",alpha_phi_s)\n",
    "print(\"Multiplication of the REG is\",M_reg_out)\n",
    "print(\"Multiplication of the SHIM is\",M_shim_out)\n",
    "print(\"Multiplication of the TRANS is\",M_trans_out)\n",
    "print(\"The control worth of the REG in dollars is\",CRW_REG)\n",
    "print(\"The control worth of the SHIM in dollars is\",CRW_SHIM)\n",
    "print(\"The control worth of the TRANS in dollars is\",CRW_TRANS)"
   ]
  },
  {
   "cell_type": "code",
   "execution_count": 530,
   "id": "3fa66266",
   "metadata": {},
   "outputs": [
    {
     "name": "stdout",
     "output_type": "stream",
     "text": [
      "Standard deviation of rho_all_in is: 0.000219066412504617\n",
      "Rho_all_in_PLUS: -0.0278915172292989\n",
      "Rho_all_in_MINUS: -0.0283296500543082\n",
      "rho_all_IN: -0.028110583641803553 ± 0.000219066412504617\n"
     ]
    }
   ],
   "source": [
    "#CR_trans_out/CR_all_in----> rho_all_in\n",
    "x = sp.symbols('CR_trans_out')\n",
    "y = sp.symbols('CR_all_in')\n",
    "A = CRW_Trans\n",
    "f = (-x/y*A + x/y + A -1 -((x/y*A -x/y - A+1)**2 + 4*(x/y -1)*(A*x/y))**(1/2))/(2*(x/y-1))\n",
    "x_prime = sp.diff(f, x) #Partial derivative of rho_all_in respect to CR_trans_out\n",
    "y_prime = sp.diff(f,y) #Partial derivative of rho_all_in respect to CR_all_in\n",
    "x_value = Mean_count_cps_4-Mean_count_cps_1 #Count rate for CR_tarns_out\n",
    "y_value = Mean_count_cps_2-Mean_count_cps_1 #Count rate for CR_all_in\n",
    "partial_rho_all_in_CR_trans_out = x_prime.subs({x:x_value,y:y_value})\n",
    "partial_rho_all_in_CR_all_in = y_prime.subs({x:x_value, y:y_value})\n",
    "\n",
    "std_rho_all_in = ((partial_rho_all_in_CR_trans_out*std_CR_trans_out)**2 + (partial_rho_all_in_CR_trans_out*std_CR_all_in)**2)**(1/2)\n",
    "\n",
    "rho_all_in_PLUS = rho_all_IN+std_rho_all_in\n",
    "rho_all_in_MINUS = rho_all_IN-std_rho_all_in\n",
    "\n",
    "print(\"Standard deviation of rho_all_in is:\",std_rho_all_in)\n",
    "print(\"Rho_all_in_PLUS:\",rho_all_in_PLUS[0])\n",
    "print(\"Rho_all_in_MINUS:\",rho_all_in_MINUS[0])\n",
    "print('rho_all_IN:',rho_all_IN[0], '±',std_rho_all_in)\n",
    "f\n",
    "i=2"
   ]
  },
  {
   "cell_type": "code",
   "execution_count": 531,
   "id": "d8ab698c",
   "metadata": {},
   "outputs": [
    {
     "name": "stdout",
     "output_type": "stream",
     "text": [
      "Standard deviation of M_all_in: 0.277227348234096\n",
      "M_all_in_PLUS: 36.8510173748805\n",
      "M_all_in_MINUS: 36.2965626784123\n",
      "M_all_in: 36.57379002664638 ± 0.277227348234096\n"
     ]
    },
    {
     "data": {
      "text/latex": [
       "$\\displaystyle \\frac{\\rho_{all in} - 1}{\\rho_{all in}}$"
      ],
      "text/plain": [
       "(rho_all_in - 1)/rho_all_in"
      ]
     },
     "execution_count": 531,
     "metadata": {},
     "output_type": "execute_result"
    }
   ],
   "source": [
    "#rho_all_in---> M_all_in\n",
    "\n",
    "x = sp.symbols('rho_all_in')\n",
    "f = (x-1)/x\n",
    "x_prime = sp.diff(f, x) #Derivative of M_all_in respect to rho_all_in\n",
    "x_value = rho_all_IN[0]\n",
    "partial_M_all_in_rho_all_in = x_prime.subs(x,x_value)\n",
    "\n",
    "std_M_all_in = partial_M_all_in_rho_all_in*std_rho_all_in\n",
    "\n",
    "std_M_all_in_PLUS = M_all_in+std_M_all_in\n",
    "std_M_all_in_MINUS = M_all_in-std_M_all_in\n",
    "\n",
    "print(\"Standard deviation of M_all_in:\",std_M_all_in)\n",
    "print(\"M_all_in_PLUS:\",std_M_all_in_PLUS[0])\n",
    "print(\"M_all_in_MINUS:\",std_M_all_in_MINUS[0])\n",
    "print('M_all_in:',M_all_in[0], '±',std_M_all_in)\n",
    "f"
   ]
  },
  {
   "cell_type": "code",
   "execution_count": 532,
   "id": "aab4abd0",
   "metadata": {},
   "outputs": [
    {
     "name": "stdout",
     "output_type": "stream",
     "text": [
      "Standard deviation of alphaphi_s: 0.00457156557183994\n",
      "alphaphi_PLUS: 0.296037120337520\n",
      "alphaphi_MINUS 0.286893989193841\n",
      "alpha_phi_s: 0.29146555476568053 ± 0.00457156557183994\n"
     ]
    },
    {
     "data": {
      "text/latex": [
       "$\\displaystyle \\frac{CR_{all in}}{M_{all in}}$"
      ],
      "text/plain": [
       "CR_all_in/M_all_in"
      ]
     },
     "execution_count": 532,
     "metadata": {},
     "output_type": "execute_result"
    }
   ],
   "source": [
    "#M_all_in---> alfa_phi_s\n",
    "\n",
    "\n",
    "x = sp.symbols('CR_all_in')\n",
    "y = sp.symbols('M_all_in')\n",
    "f = x/y\n",
    "x_prime = sp.diff(f, x) #Partial derivative of alpha_phi_s respect to M_all_in\n",
    "y_prime = sp.diff(f,y) #Partial derivative of alpha_phi_s respect to CR_all_in\n",
    "x_value = Mean_count_cps_2-Mean_count_cps_1 #CR_all_in\n",
    "y_value = M_all_in[0]\n",
    "partial_alphaphi_s_CR_all_in = x_prime.subs({x:x_value, y:y_value})\n",
    "partial_alphaphi_s_M_all_in = y_prime.subs({x:x_value, y:y_value})\n",
    "\n",
    "std_alphaphi_s = ((partial_alphaphi_s_M_all_in*std_M_all_in)**2 + (partial_alphaphi_s_CR_all_in*std_CR_all_in)**2)**(1/2)\n",
    "\n",
    "alphaphi_s_PLUS = alpha_phi_s+std_alphaphi_s\n",
    "alphaphi_s_MINUS = alpha_phi_s-std_alphaphi_s\n",
    "\n",
    "print(\"Standard deviation of alphaphi_s:\",std_alphaphi_s)\n",
    "print(\"alphaphi_PLUS:\",alphaphi_s_PLUS[0])\n",
    "print(\"alphaphi_MINUS\",alphaphi_s_MINUS[0])\n",
    "print('alpha_phi_s:',alpha_phi_s[0], '±',std_alphaphi_s)\n",
    "f"
   ]
  },
  {
   "cell_type": "markdown",
   "id": "fa573a1d",
   "metadata": {},
   "source": [
    "# SHIM reference: If we wish to compute all CRW of Reg, Trans, Shim respect to the SHIM reference then this is the code that must be runned:"
   ]
  },
  {
   "cell_type": "code",
   "execution_count": 605,
   "id": "1aed3559",
   "metadata": {},
   "outputs": [
    {
     "name": "stdout",
     "output_type": "stream",
     "text": [
      "Calibration factor is  [0.31905565]\n",
      "Multiplication of the REG is [47.74715594]\n",
      "Multiplication of the SHIM is [137.09833891]\n",
      "Multiplication of the TRANS is [78.12430149]\n",
      "The control worth of the REG in dollars is [1.29615788]\n",
      "The control worth of the SHIM in dollars is [3.22]\n",
      "The control worth of the TRANS in dollars is [2.45034883]\n"
     ]
    }
   ],
   "source": [
    "#SHIM OUT/#ALL IN\n",
    "beta = 0.0073\n",
    "CRW_Shim = 3.22*beta\n",
    "gamma = (Mean_count_cps_5-Mean_count_cps_1)/(Mean_count_cps_2-Mean_count_cps_1)\n",
    "def function(rho_all_in):\n",
    "    return gamma*(rho_all_in-1)*(CRW_Shim+rho_all_in) - (CRW_Shim+rho_all_in-1)*rho_all_in \n",
    "\n",
    "rho_all_in_zero = -0.05\n",
    "rho_all_IN = fsolve(function, rho_all_in_zero)    \n",
    "M_all_in = (rho_all_IN-1)/rho_all_IN\n",
    "alpha_phi_s = (Mean_count_cps_2-Mean_count_cps_1)/(M_all_in)\n",
    "\n",
    "#Determine CRW for: REG_OUT, SHIM_OUT, TRANS_OUT\n",
    "M_reg_out = (Mean_count_cps_3-Mean_count_cps_1)/alpha_phi_s\n",
    "M_shim_out = (Mean_count_cps_5-Mean_count_cps_1)/alpha_phi_s\n",
    "M_trans_out = (Mean_count_cps_4-Mean_count_cps_1)/alpha_phi_s\n",
    "rho_reg_out = 1/(1-M_reg_out)\n",
    "rho_shim_out = 1/(1-M_shim_out)\n",
    "rho_trans_out = 1/(1-M_trans_out)\n",
    "CRW_ALL_IN = 0\n",
    "CRW_REG = (rho_reg_out- rho_all_IN)/beta\n",
    "CRW_SHIM = (rho_shim_out - rho_all_IN)/beta\n",
    "CRW_TRANS = (rho_trans_out - rho_all_IN)/beta\n",
    "\n",
    "print(\"Calibration factor is \",alpha_phi_s)\n",
    "print(\"Multiplication of the REG is\",M_reg_out)\n",
    "print(\"Multiplication of the SHIM is\",M_shim_out)\n",
    "print(\"Multiplication of the TRANS is\",M_trans_out)\n",
    "print(\"The control worth of the REG in dollars is\",CRW_REG)\n",
    "print(\"The control worth of the SHIM in dollars is\",CRW_SHIM)\n",
    "print(\"The control worth of the TRANS in dollars is\",CRW_TRANS)\n"
   ]
  },
  {
   "cell_type": "code",
   "execution_count": 606,
   "id": "b0fa7278",
   "metadata": {},
   "outputs": [
    {
     "name": "stdout",
     "output_type": "stream",
     "text": [
      "Standard deviation of rho_all_in is: 7.28146303322797e-5\n",
      "Rho_all_in_PLUS: -0.0307808136215399\n",
      "Rho_all_in_MINUS: -0.0309264428822044\n",
      "rho_all_IN: -0.03085362825187215 ± 7.28146303322797e-5\n"
     ]
    }
   ],
   "source": [
    "#CR_shim_out/CR_all_in----> rho_all_in\n",
    "\n",
    "x = sp.symbols('CR_shim_out')\n",
    "y = sp.symbols('CR_all_in')\n",
    "A = CRW_Shim\n",
    "f = (-x/y*A + x/y + A -1 -((x/y*A -x/y - A+1)**2 + 4*(x/y -1)*(A*x/y))**(1/2))/(2*(x/y-1))\n",
    "x_prime = sp.diff(f, x) #Partial derivative of rho_all_in respect to CR_shim_out\n",
    "y_prime = sp.diff(f,y) #Partial derivative of rho_all_in respect to CR_all_in\n",
    "x_value = Mean_count_cps_5-Mean_count_cps_1 #Count rate for CR_shim_out\n",
    "y_value = Mean_count_cps_2-Mean_count_cps_1 #Count rate for CR_all_in\n",
    "partial_rho_all_in_CR_shim_out = x_prime.subs({x:x_value,y:y_value})\n",
    "partial_rho_all_in_CR_all_in = y_prime.subs({x:x_value, y:y_value})\n",
    "\n",
    "std_rho_all_in = ((partial_rho_all_in_CR_shim_out*std_CR_shim_out)**2 + (partial_rho_all_in_CR_shim_out*std_CR_all_in)**2)**(1/2)\n",
    "\n",
    "rho_all_in_PLUS = rho_all_IN+std_rho_all_in\n",
    "rho_all_in_MINUS = rho_all_IN-std_rho_all_in\n",
    "\n",
    "print(\"Standard deviation of rho_all_in is:\",std_rho_all_in)\n",
    "print(\"Rho_all_in_PLUS:\",rho_all_in_PLUS[0])\n",
    "print(\"Rho_all_in_MINUS:\",rho_all_in_MINUS[0])\n",
    "print('rho_all_IN:',rho_all_IN[0], '±',std_rho_all_in)\n",
    "f\n",
    "i=3"
   ]
  },
  {
   "cell_type": "code",
   "execution_count": 607,
   "id": "7046b3d7",
   "metadata": {},
   "outputs": [
    {
     "name": "stdout",
     "output_type": "stream",
     "text": [
      "Standard deviation of M_all_in: 0.0764902647299655\n",
      "M_all_in_PLUS: 33.4875892718401\n",
      "M_all_in_MINUS: 33.3346087423802\n",
      "M_all_in: 33.41109900711018 ± 0.0764902647299655\n"
     ]
    },
    {
     "data": {
      "text/latex": [
       "$\\displaystyle \\frac{\\rho_{all in} - 1}{\\rho_{all in}}$"
      ],
      "text/plain": [
       "(rho_all_in - 1)/rho_all_in"
      ]
     },
     "execution_count": 607,
     "metadata": {},
     "output_type": "execute_result"
    }
   ],
   "source": [
    "#rho_all_in---> M_all_in\n",
    "\n",
    "x = sp.symbols('rho_all_in')\n",
    "f = (x-1)/x\n",
    "x_prime = sp.diff(f, x) #Derivative of M_all_in respect to rho_all_in\n",
    "x_value = rho_all_IN[0]\n",
    "partial_M_all_in_rho_all_in = x_prime.subs(x,x_value)\n",
    "\n",
    "std_M_all_in = partial_M_all_in_rho_all_in*std_rho_all_in\n",
    "\n",
    "std_M_all_in_PLUS = M_all_in+std_M_all_in\n",
    "std_M_all_in_MINUS = M_all_in-std_M_all_in\n",
    "\n",
    "print(\"Standard deviation of M_all_in:\",std_M_all_in)\n",
    "print(\"M_all_in_PLUS:\",std_M_all_in_PLUS[0])\n",
    "print(\"M_all_in_MINUS:\",std_M_all_in_MINUS[0])\n",
    "print('M_all_in:',M_all_in[0], '±',std_M_all_in)\n",
    "f"
   ]
  },
  {
   "cell_type": "code",
   "execution_count": 608,
   "id": "8380ea4c",
   "metadata": {
    "scrolled": true
   },
   "outputs": [
    {
     "name": "stdout",
     "output_type": "stream",
     "text": [
      "Standard deviation of alphaphi_s: 0.00444160690037327\n",
      "alphaphi_PLUS: 0.323497259566317\n",
      "alphaphi_MINUS 0.314614045765570\n",
      "alpha_phi_s: 0.31905565266594366 ± 0.00444160690037327\n"
     ]
    },
    {
     "data": {
      "text/latex": [
       "$\\displaystyle \\frac{CR_{all in}}{M_{all in}}$"
      ],
      "text/plain": [
       "CR_all_in/M_all_in"
      ]
     },
     "execution_count": 608,
     "metadata": {},
     "output_type": "execute_result"
    }
   ],
   "source": [
    "#M_all_in---> alfa_phi_s\n",
    "\n",
    "\n",
    "x = sp.symbols('CR_all_in')\n",
    "y = sp.symbols('M_all_in')\n",
    "f = x/y\n",
    "x_prime = sp.diff(f, x) #Partial derivative of alpha_phi_s respect to M_all_in\n",
    "y_prime = sp.diff(f,y) #Partial derivative of alpha_phi_s respect to CR_all_in\n",
    "x_value = Mean_count_cps_2-Mean_count_cps_1 #CR_all_in\n",
    "y_value = M_all_in[0]\n",
    "partial_alphaphi_s_CR_all_in = x_prime.subs({x:x_value, y:y_value})\n",
    "partial_alphaphi_s_M_all_in = y_prime.subs({x:x_value, y:y_value})\n",
    "\n",
    "std_alphaphi_s = ((partial_alphaphi_s_M_all_in*std_M_all_in)**2 + (partial_alphaphi_s_CR_all_in*std_CR_all_in)**2)**(1/2)\n",
    "\n",
    "alphaphi_s_PLUS = alpha_phi_s+std_alphaphi_s\n",
    "alphaphi_s_MINUS = alpha_phi_s-std_alphaphi_s\n",
    "\n",
    "print(\"Standard deviation of alphaphi_s:\",std_alphaphi_s)\n",
    "print(\"alphaphi_PLUS:\",alphaphi_s_PLUS[0])\n",
    "print(\"alphaphi_MINUS\",alphaphi_s_MINUS[0])\n",
    "print('alpha_phi_s:',alpha_phi_s[0], '±',std_alphaphi_s)\n",
    "f"
   ]
  },
  {
   "cell_type": "markdown",
   "id": "1f2de497",
   "metadata": {},
   "source": [
    "# This part of the code must be runned regardless of the reference taken into consideration. "
   ]
  },
  {
   "cell_type": "code",
   "execution_count": 609,
   "id": "d3f2a90a",
   "metadata": {},
   "outputs": [
    {
     "name": "stdout",
     "output_type": "stream",
     "text": [
      "Standard deviation of M_reg_out: 0.861491601454915\n",
      "M_reg_out_PLUS: 48.6086475371319\n",
      "M_reg_out_MINUS 46.8856643342220\n",
      "M_reg_out: 47.747155935676965 ± 0.861491601454915\n"
     ]
    },
    {
     "data": {
      "text/latex": [
       "$\\displaystyle \\frac{CR_{Reg out}}{\\alpha_{\\phi}}$"
      ],
      "text/plain": [
       "CR_Reg_out/alpha_phi"
      ]
     },
     "execution_count": 609,
     "metadata": {},
     "output_type": "execute_result"
    }
   ],
   "source": [
    "#alfa_phi_s---> M_reg_out\n",
    "\n",
    "x = sp.symbols('CR_Reg_out')\n",
    "y = sp.symbols('alpha_phi')\n",
    "f = x / y\n",
    "x_prime = sp.diff(f, x)  # Partial derivative of M_Reg_out respect to CR_Reg_out\n",
    "y_prime = sp.diff(f, y)  # Partial derivative of M_Reg_out respect to alpha_phi_s\n",
    "x_value = Mean_count_cps_3 - Mean_count_cps_1  # CR_Reg_out\n",
    "y_value = alpha_phi_s[0]\n",
    "partial_M_Reg_out_CR_Reg_out = x_prime.subs({x: x_value, y: y_value})\n",
    "partial_M_Reg_out_alphaphi_s = y_prime.subs({x: x_value, y: y_value})\n",
    "std_M_reg_out = ((partial_M_Reg_out_CR_Reg_out * std_CR_reg_out)**2 +(partial_M_Reg_out_alphaphi_s * std_alphaphi_s)**2)**(1/2)\n",
    "\n",
    "M_reg_out_PLUS = M_reg_out[0] + std_M_reg_out\n",
    "M_reg_out_MINUS = M_reg_out[0] - std_M_reg_out\n",
    "\n",
    "print(\"Standard deviation of M_reg_out:\", std_M_reg_out)\n",
    "print(\"M_reg_out_PLUS:\", M_reg_out_PLUS)\n",
    "print(\"M_reg_out_MINUS\", M_reg_out_MINUS)\n",
    "print('M_reg_out:', M_reg_out[0], '±', std_M_reg_out)\n",
    "\n",
    "f\n",
    "\n"
   ]
  },
  {
   "cell_type": "code",
   "execution_count": 610,
   "id": "ea0993a7",
   "metadata": {},
   "outputs": [
    {
     "name": "stdout",
     "output_type": "stream",
     "text": [
      "Standard deviation of M_reg_out: 0.000394221821493800\n",
      "rho_reg_out_PLUS -0.0209974538854942\n",
      "rho_reg_out_MINUS -0.0217858975284818\n",
      "rho_reg_out: -0.02139167570698798 ± 0.000394221821493800\n"
     ]
    },
    {
     "data": {
      "text/latex": [
       "$\\displaystyle \\frac{1}{1 - M_{reg out}}$"
      ],
      "text/plain": [
       "1/(1 - M_reg_out)"
      ]
     },
     "execution_count": 610,
     "metadata": {},
     "output_type": "execute_result"
    }
   ],
   "source": [
    "#M_reg_out---> rho_reg_out\n",
    "x = sp.symbols('M_reg_out')\n",
    "f = 1/(1-x)\n",
    "x_prime = sp.diff(f, x) #Derivative of rho_reg_out respect to M_reg_out\n",
    "x_value = M_reg_out[0]\n",
    "partial_rho_reg_out_M_reg_out = x_prime.subs(x,x_value)\n",
    "std_rho_reg_out = partial_rho_reg_out_M_reg_out*std_M_reg_out\n",
    "    \n",
    "rho_reg_out_PLUS = rho_reg_out[0]+std_rho_reg_out\n",
    "rho_reg_out_MINUS = rho_reg_out[0]-std_rho_reg_out\n",
    "    \n",
    "print(\"Standard deviation of M_reg_out:\",std_rho_reg_out)\n",
    "print(\"rho_reg_out_PLUS\",rho_reg_out_PLUS)\n",
    "print(\"rho_reg_out_MINUS\",rho_reg_out_MINUS)\n",
    "print('rho_reg_out:',rho_reg_out[0], '±',std_rho_reg_out)\n",
    "f\n",
    "    "
   ]
  },
  {
   "cell_type": "code",
   "execution_count": 611,
   "id": "66face66",
   "metadata": {},
   "outputs": [
    {
     "name": "stdout",
     "output_type": "stream",
     "text": [
      "Standard deviation of CRW_reg_out: 0.000400890028477033\n",
      "CRW_reg_out_PLUS in $: [1.35107432511797]\n",
      "CRW_reg_out_MINUS in $ [1.24124144060372]\n",
      "CRW_reg_out: [1.29615788] ± 0.0549164422571278\n"
     ]
    },
    {
     "data": {
      "text/latex": [
       "$\\displaystyle - \\rho_{all in} + \\rho_{reg out}$"
      ],
      "text/plain": [
       "-rho_all_in + rho_reg_out"
      ]
     },
     "execution_count": 611,
     "metadata": {},
     "output_type": "execute_result"
    }
   ],
   "source": [
    "#rho_reg_out---> CRW_reg_out\n",
    "\n",
    "x = sp.symbols('rho_reg_out')\n",
    "y = sp.symbols('rho_all_in')\n",
    "f = x-y\n",
    "x_prime = sp.diff(f, x) #Partial derivative of CRW_Reg respect to rho_reg_out\n",
    "y_prime = sp.diff(f,y) #Partial derivative of CRW_Reg respect to rho_all_in\n",
    "x_value = rho_reg_out[0]\n",
    "y_value = rho_all_IN[0]\n",
    "partial_CRW_Reg_rho_reg_out = x_prime.subs({x:x_value, y:y_value})\n",
    "partial_CRW_Reg_rho_all_in= y_prime.subs({x:x_value, y:y_value})\n",
    "std_CRW_reg_out = ((partial_CRW_Reg_rho_reg_out*std_rho_reg_out)**2 + (partial_CRW_Reg_rho_all_in*std_rho_all_in)**2)**(1/2)\n",
    "\n",
    "CRW_reg_out_PLUS = CRW_REG+(std_CRW_reg_out)/beta\n",
    "CRW_reg_out_MINUS = CRW_REG-(std_CRW_reg_out)/beta\n",
    "\n",
    "print(\"Standard deviation of CRW_reg_out:\",std_CRW_reg_out)\n",
    "print(\"CRW_reg_out_PLUS in $:\",CRW_reg_out_PLUS)\n",
    "print(\"CRW_reg_out_MINUS in $\",CRW_reg_out_MINUS)\n",
    "print('CRW_reg_out:',CRW_REG, '±',std_CRW_reg_out/beta)\n",
    "f\n",
    "\n"
   ]
  },
  {
   "cell_type": "code",
   "execution_count": 612,
   "id": "c6635bef",
   "metadata": {},
   "outputs": [
    {
     "name": "stdout",
     "output_type": "stream",
     "text": [
      "Standard deviation of M_trans_out: 1.29367408030449\n",
      "M_trans_out_PLUS: [79.4179755672865]\n",
      "M_trans_out_MINUS [76.8306274066775]\n",
      "M_trans_out: [78.12430149] ± 1.29367408030449\n"
     ]
    },
    {
     "data": {
      "text/latex": [
       "$\\displaystyle \\frac{CR_{Trans out}}{\\alpha_{\\phi}}$"
      ],
      "text/plain": [
       "CR_Trans_out/alpha_phi"
      ]
     },
     "execution_count": 612,
     "metadata": {},
     "output_type": "execute_result"
    }
   ],
   "source": [
    "#alfa_phi_s---> M_trans_out\n",
    "\n",
    "x = sp.symbols('CR_Trans_out')\n",
    "y = sp.symbols('alpha_phi')\n",
    "f = x/y\n",
    "x_prime = sp.diff(f, x) #Partial derivative of M_Trans_out respect to CR_Trans_out\n",
    "y_prime = sp.diff(f,y) #Partial derivative of M_Trans_out respect to alpha_phi_s\n",
    "x_value = Mean_count_cps_4 - Mean_count_cps_1 #CR_Trans_out\n",
    "y_value = alpha_phi_s[0]\n",
    "partial_M_Trans_out_CR_Trans_out = x_prime.subs({x:x_value, y:y_value})\n",
    "partial_M_Trans_out_alphaphi_s = y_prime.subs({x:x_value, y:y_value})\n",
    "\n",
    "std_M_trans_out = ((partial_M_Trans_out_CR_Trans_out*std_CR_trans_out)**2 + (partial_M_Trans_out_alphaphi_s*std_alphaphi_s)**2)**(1/2)\n",
    "\n",
    "M_trans_out_PLUS = M_trans_out+std_M_trans_out \n",
    "M_trans_out_MINUS = M_trans_out-std_M_trans_out\n",
    "\n",
    "print(\"Standard deviation of M_trans_out:\",std_M_trans_out)\n",
    "print(\"M_trans_out_PLUS:\",M_trans_out_PLUS)\n",
    "print(\"M_trans_out_MINUS\",M_trans_out_MINUS)\n",
    "print('M_trans_out:',M_trans_out, '±',std_M_trans_out )\n",
    "f\n",
    "\n"
   ]
  },
  {
   "cell_type": "code",
   "execution_count": 613,
   "id": "107938e3",
   "metadata": {},
   "outputs": [
    {
     "name": "stdout",
     "output_type": "stream",
     "text": [
      "Standard deviation of rho_trans_out: 0.000217491550566585\n",
      "rho_trans_out_PLUS [-0.0127485902254712]\n",
      "rho_trans_out_MINUS [-0.0131835733266044]\n",
      "rho_trans_out: [-0.01296608] ± 0.000217491550566585\n"
     ]
    },
    {
     "data": {
      "text/latex": [
       "$\\displaystyle \\frac{1}{1 - M_{trans out}}$"
      ],
      "text/plain": [
       "1/(1 - M_trans_out)"
      ]
     },
     "execution_count": 613,
     "metadata": {},
     "output_type": "execute_result"
    }
   ],
   "source": [
    "#M_trans_out---> rho_trans_out\n",
    "\n",
    "x = sp.symbols('M_trans_out')\n",
    "f = 1/(1-x)\n",
    "x_prime = sp.diff(f, x) #Derivative of rho_trans_out respect to M_trans_out\n",
    "x_value = M_trans_out[0]\n",
    "partial_rho_trans_out_M_trans_out = x_prime.subs(x,x_value)\n",
    "\n",
    "std_rho_trans_out = partial_rho_trans_out_M_trans_out*std_M_trans_out\n",
    "\n",
    "rho_trans_out_PLUS = rho_trans_out+std_rho_trans_out\n",
    "rho_trans_out_MINUS = rho_trans_out-std_rho_trans_out\n",
    "\n",
    "print(\"Standard deviation of rho_trans_out:\",std_rho_trans_out)\n",
    "print(\"rho_trans_out_PLUS\",rho_trans_out_PLUS)\n",
    "print(\"rho_trans_out_MINUS\",rho_trans_out_MINUS)\n",
    "print('rho_trans_out:',rho_trans_out, '±',std_rho_trans_out)\n",
    "f"
   ]
  },
  {
   "cell_type": "code",
   "execution_count": 614,
   "id": "528f4440",
   "metadata": {},
   "outputs": [
    {
     "name": "stdout",
     "output_type": "stream",
     "text": [
      "Standard deviation of CRW_trans_out: 0.000229356807089486\n",
      "CRW_trans_out_PLUS in $: [2.48176757300327]\n",
      "CRW_trans_out_MINUS in $ [2.41893009160889]\n",
      "CRW_trans_out: [2.45034883] ± 0.0314187406971899\n"
     ]
    },
    {
     "data": {
      "text/latex": [
       "$\\displaystyle - \\rho_{all in} + \\rho_{trans out}$"
      ],
      "text/plain": [
       "-rho_all_in + rho_trans_out"
      ]
     },
     "execution_count": 614,
     "metadata": {},
     "output_type": "execute_result"
    }
   ],
   "source": [
    "#rho_trans_out---> CRW_trans_out\n",
    "\n",
    "x = sp.symbols('rho_trans_out')\n",
    "y = sp.symbols('rho_all_in')\n",
    "f = x-y\n",
    "x_prime = sp.diff(f, x) #Partial derivative of CRW_trans respect to rho_trans_out\n",
    "y_prime = sp.diff(f,y) #Partial derivative of CRW_trans respect to rho_all_in\n",
    "x_value = rho_trans_out\n",
    "y_value = rho_all_IN[0]\n",
    "partial_CRW_trans_rho_trans_out = x_prime.subs({x:x_value, y:y_value})\n",
    "partial_CRW_trans_rho_all_in= y_prime.subs({x:x_value, y:y_value})\n",
    "\n",
    "std_CRW_trans_out = ((partial_CRW_trans_rho_trans_out*std_rho_trans_out)**2 + (partial_CRW_trans_rho_all_in*std_rho_all_in)**2)**(1/2)\n",
    "\n",
    "CRW_trans_out_PLUS = CRW_TRANS+(std_CRW_trans_out)/beta\n",
    "CRW_trans_out_MINUS = CRW_TRANS-(std_CRW_trans_out)/beta\n",
    "\n",
    "print(\"Standard deviation of CRW_trans_out:\",std_CRW_trans_out)\n",
    "print(\"CRW_trans_out_PLUS in $:\",CRW_trans_out_PLUS)\n",
    "print(\"CRW_trans_out_MINUS in $\",CRW_trans_out_MINUS)\n",
    "print('CRW_trans_out:',CRW_TRANS, '±',std_CRW_trans_out/beta)\n",
    "f\n"
   ]
  },
  {
   "cell_type": "code",
   "execution_count": 615,
   "id": "7cda004a",
   "metadata": {},
   "outputs": [
    {
     "name": "stdout",
     "output_type": "stream",
     "text": [
      "Standard deviation of M_shim_out: 2.12203929193038\n",
      "M_shim_out_PLUS: [139.220378200843]\n",
      "M_shim_out_MINUS [134.976299616983]\n",
      "M_shim_out: [137.09833891] ± 2.12203929193038\n"
     ]
    },
    {
     "data": {
      "text/latex": [
       "$\\displaystyle \\frac{CR_{Shim out}}{\\alpha_{\\phi}}$"
      ],
      "text/plain": [
       "CR_Shim_out/alpha_phi"
      ]
     },
     "execution_count": 615,
     "metadata": {},
     "output_type": "execute_result"
    }
   ],
   "source": [
    "#alfa_phi_s---> M_shim_out\n",
    "\n",
    "x = sp.symbols('CR_Shim_out')\n",
    "y = sp.symbols('alpha_phi')\n",
    "f = x/y\n",
    "x_prime = sp.diff(f, x) #Partial derivative of M_Shim_out respect to CR_Shim_out\n",
    "y_prime = sp.diff(f,y) #Partial derivative of M_Shim_out respect to alpha_phi_s\n",
    "x_value = Mean_count_cps_5 - Mean_count_cps_1 #CR_Shim_out\n",
    "y_value = alpha_phi_s[0]\n",
    "partial_M_Shim_out_CR_Shim_out = x_prime.subs({x:x_value, y:y_value})\n",
    "partial_M_Shim_out_alphaphi_s = y_prime.subs({x:x_value, y:y_value})\n",
    "\n",
    "std_M_shim_out = ((partial_M_Shim_out_CR_Shim_out*std_CR_shim_out)**2 + (partial_M_Shim_out_alphaphi_s*std_alphaphi_s)**2)**(1/2)\n",
    "\n",
    "M_shim_out_PLUS = M_shim_out+std_M_shim_out \n",
    "M_shim_out_MINUS = M_shim_out-std_M_shim_out \n",
    "\n",
    "print(\"Standard deviation of M_shim_out:\",std_M_shim_out)\n",
    "print(\"M_shim_out_PLUS:\",M_shim_out_PLUS)\n",
    "print(\"M_shim_out_MINUS\",M_shim_out_MINUS)\n",
    "print('M_shim_out:',M_shim_out, '±',std_M_shim_out )\n",
    "f"
   ]
  },
  {
   "cell_type": "code",
   "execution_count": 616,
   "id": "51b179bd",
   "metadata": {},
   "outputs": [
    {
     "name": "stdout",
     "output_type": "stream",
     "text": [
      "Standard deviation of rho_shim_out: 0.000114563895327229\n",
      "rho_shim_out_PLUS [-0.00723306435654492]\n",
      "rho_shim_out_MINUS [-0.00746219214719938]\n",
      "rho_shim_out: [-0.00734763] ± 0.000114563895327229\n"
     ]
    },
    {
     "data": {
      "text/latex": [
       "$\\displaystyle \\frac{1}{1 - M_{shim out}}$"
      ],
      "text/plain": [
       "1/(1 - M_shim_out)"
      ]
     },
     "execution_count": 616,
     "metadata": {},
     "output_type": "execute_result"
    }
   ],
   "source": [
    "#M_shim_out---> rho_shim_out\n",
    "\n",
    "x = sp.symbols('M_shim_out')\n",
    "f = 1/(1-x)\n",
    "x_prime = sp.diff(f, x) #Derivative of rho_shim_out respect to M_shim_out\n",
    "x_value = M_shim_out[0]\n",
    "partial_rho_shim_out_M_shim_out = x_prime.subs(x,x_value)\n",
    "\n",
    "std_rho_shim_out = partial_rho_shim_out_M_shim_out*std_M_shim_out\n",
    "\n",
    "rho_shim_out_PLUS = rho_shim_out+std_rho_shim_out\n",
    "rho_shim_out_MINUS = rho_shim_out-std_rho_shim_out\n",
    "\n",
    "print(\"Standard deviation of rho_shim_out:\",std_rho_shim_out)\n",
    "print(\"rho_shim_out_PLUS\",rho_shim_out_PLUS)\n",
    "print(\"rho_shim_out_MINUS\",rho_shim_out_MINUS)\n",
    "print('rho_shim_out:',rho_shim_out, '±',std_rho_shim_out)\n",
    "\n",
    "f"
   ]
  },
  {
   "cell_type": "code",
   "execution_count": 617,
   "id": "3003f7e1",
   "metadata": {},
   "outputs": [
    {
     "name": "stdout",
     "output_type": "stream",
     "text": [
      "Standard deviation of CRW_shim_out: 0.000135745557949330\n",
      "CRW_shim_out_PLUS in $: [3.23859528191087]\n",
      "CRW_shim_out_MINUS in $ [3.20140471808913]\n",
      "CRW_shim_out: [3.22] ± 0.0185952819108671\n"
     ]
    },
    {
     "data": {
      "text/latex": [
       "$\\displaystyle - \\rho_{all in} + \\rho_{shim out}$"
      ],
      "text/plain": [
       "-rho_all_in + rho_shim_out"
      ]
     },
     "execution_count": 617,
     "metadata": {},
     "output_type": "execute_result"
    }
   ],
   "source": [
    "#rho_shim_out---> CRW_shim_out\n",
    "\n",
    "x = sp.symbols('rho_shim_out')\n",
    "y = sp.symbols('rho_all_in')\n",
    "f = x-y\n",
    "x_prime = sp.diff(f, x) #Partial derivative of CRW_shim respect to rho_shim_out\n",
    "y_prime = sp.diff(f,y) #Partial derivative of CRW_shim respect to rho_all_in\n",
    "x_value = rho_shim_out\n",
    "y_value = rho_all_IN[0]\n",
    "partial_CRW_shim_rho_shim_out = x_prime.subs({x:x_value, y:y_value})\n",
    "partial_CRW_shim_rho_all_in= y_prime.subs({x:x_value, y:y_value})\n",
    "\n",
    "std_CRW_shim_out = ((partial_CRW_shim_rho_shim_out*std_rho_shim_out)**2 + (partial_CRW_shim_rho_all_in*std_rho_all_in)**2)**(1/2)\n",
    "\n",
    "CRW_shim_out_PLUS = (CRW_SHIM*beta+std_CRW_shim_out)/beta\n",
    "CRW_shim_out_MINUS = (CRW_SHIM*beta-std_CRW_shim_out)/beta\n",
    "\n",
    "print(\"Standard deviation of CRW_shim_out:\",std_CRW_shim_out)\n",
    "print(\"CRW_shim_out_PLUS in $:\",CRW_shim_out_PLUS)\n",
    "print(\"CRW_shim_out_MINUS in $\",CRW_shim_out_MINUS)\n",
    "print('CRW_shim_out:',CRW_SHIM, '±',std_CRW_shim_out/beta)\n",
    "f\n"
   ]
  },
  {
   "cell_type": "markdown",
   "id": "a0149650",
   "metadata": {},
   "source": [
    "# Final uncertainity: \n",
    "In this section i will compute the final CRW for REG,TRANS,and SHIM, taken as the average of the 3 reference conditions, with its own final uncertaintiy.\n",
    "\n",
    "\n",
    "\n"
   ]
  },
  {
   "cell_type": "code",
   "execution_count": 653,
   "id": "f66b0532",
   "metadata": {},
   "outputs": [
    {
     "name": "stdout",
     "output_type": "stream",
     "text": [
      "Standard deviation of SHIM: 0.0306166666666667\n",
      "CRW_PLUS 3.06708333333333\n",
      "CRW_MINUS 3.00585000000000\n",
      "SHIM: 3.036466666666667 ± 0.0306166666666667\n",
      "Standard deviation of TRANS: 0.0433000000000000\n",
      "CWR_PLUS 2.35376666666667\n",
      "CRW_MINUS 2.26716666666667\n",
      "TRANS: 2.3104666666666667 ± 0.0433000000000000\n",
      "Standard deviation of REG: 0.0338316666666667\n",
      "CWR_PLUS 1.25546500000000\n",
      "CRW_MINUS 1.18780166666667\n",
      "REG: 1.2216333333333333 ± 0.0338316666666667\n"
     ]
    }
   ],
   "source": [
    "#From SHIM as a reference\n",
    "CRW_shim_shim = 3.22\n",
    "CRW_reg_shim = 1.2962\n",
    "CRW_trans_shim = 2.4503\n",
    "\n",
    "#From TRANS as a reference\n",
    "CRW_shim_trans = 2.9319\n",
    "CRW_trans_trans = 2.23\n",
    "CRW_reg_trans = 1.1787\n",
    "\n",
    "#From REG as a reference\n",
    "CRW_shim_reg = 2.9575\n",
    "CRW_trans_reg = 2.2511\n",
    "CRW_reg_reg = 1.19\n",
    "\n",
    "\n",
    "#Standard deviations\n",
    "\n",
    "std_shim_shim = 0.0186\n",
    "std_trans_shim = 0.0314\n",
    "std_reg_shim = 0.01549\n",
    "\n",
    "\n",
    "\n",
    "std_shim_trans = 0.0339\n",
    "std_trans_trans = 0.0609\n",
    "std_reg_trans = 0.0422\n",
    "\n",
    "\n",
    "\n",
    "std_shim_reg = 0.1312\n",
    "std_trans_reg = 0.1675\n",
    "std_reg_reg = 0.1453\n",
    "\n",
    "\n",
    "\n",
    "mean_1 = (CRW_shim_shim+CRW_shim_trans+CRW_shim_reg)/3\n",
    "\n",
    "mean_2 = (CRW_trans_shim+CRW_trans_trans+CRW_trans_reg)/3\n",
    "\n",
    "mean_3 = (CRW_reg_shim+CRW_reg_trans+CRW_reg_reg)/3\n",
    "\n",
    "#SHIM calculation:\n",
    "x = sp.symbols('CRW_shim_shim')\n",
    "y = sp.symbols('CRW_shim_trans')\n",
    "z = sp.symbols('CRW_shim_reg')\n",
    "f =  (x+y+z)/3\n",
    "x_prime = sp.diff(f, x)\n",
    "y_prime = sp.diff(f,y) \n",
    "z_prime = sp.diff(f,z)\n",
    "               \n",
    "x_value = CRW_shim_shim\n",
    "y_value = CRW_shim_trans\n",
    "z_value = CRW_shim_reg\n",
    "               \n",
    "partial_1 = x_prime.subs({x:x_value, y:y_value, z:z_value})\n",
    "partial_2 = y_prime.subs({x:x_value, y:y_value, z:z_value})\n",
    "partial_3 = z_prime.subs({x:x_value, y:y_value, z:z_value})\n",
    "\n",
    "std = (partial_1*std_shim_shim+partial_2*std_shim_trans+partial_3*std_shim_reg)**1/2\n",
    "\n",
    "CRW_PLUS = mean_1+std\n",
    "CRW_MINUS = mean_1-std\n",
    "\n",
    "print(\"Standard deviation of SHIM:\",std)\n",
    "print(\"CRW_PLUS\",CRW_PLUS)\n",
    "print(\"CRW_MINUS\",CRW_MINUS)\n",
    "print('SHIM:',mean_1, '±',std)\n",
    "\n",
    "\n",
    "#TRANS calculations\n",
    "x = sp.symbols('CRW_trans_shim')\n",
    "y = sp.symbols('CRW_trans_trans')\n",
    "z = sp.symbols('CRW_trans_reg')\n",
    "f =  (x+y+z)/3\n",
    "x_prime = sp.diff(f, x)\n",
    "y_prime = sp.diff(f,y) \n",
    "z_prime = sp.diff(f,z)\n",
    "               \n",
    "x_value = CRW_trans_shim\n",
    "y_value = CRW_trans_trans\n",
    "z_value = CRW_trans_reg\n",
    "               \n",
    "partial_1 = x_prime.subs({x:x_value, y:y_value, z:z_value})\n",
    "partial_2 = y_prime.subs({x:x_value, y:y_value, z:z_value})\n",
    "partial_3 = z_prime.subs({x:x_value, y:y_value, z:z_value})\n",
    "\n",
    "std = (partial_1*std_trans_shim+partial_2*std_trans_trans+partial_3*std_trans_reg)**1/2\n",
    "\n",
    "CRW_PLUS = mean_2+std\n",
    "CRW_MINUS = mean_2-std\n",
    "\n",
    "print(\"Standard deviation of TRANS:\",std)\n",
    "print(\"CWR_PLUS\",CRW_PLUS)\n",
    "print(\"CRW_MINUS\",CRW_MINUS)\n",
    "print('TRANS:',mean_2, '±',std)\n",
    "\n",
    "#REG calculations\n",
    "x = sp.symbols('CRW_reg_shim')\n",
    "y = sp.symbols('CRW_reg_trans')\n",
    "z = sp.symbols('CRW_reg_reg')\n",
    "f =  (x+y+z)/3\n",
    "x_prime = sp.diff(f, x)\n",
    "y_prime = sp.diff(f,y) \n",
    "z_prime = sp.diff(f,z)\n",
    "               \n",
    "x_value = CRW_reg_shim\n",
    "y_value = CRW_reg_trans\n",
    "z_value = CRW_reg_reg\n",
    "               \n",
    "partial_1 = x_prime.subs({x:x_value, y:y_value, z:z_value})\n",
    "partial_2 = y_prime.subs({x:x_value, y:y_value, z:z_value})\n",
    "partial_3 = z_prime.subs({x:x_value, y:y_value, z:z_value})\n",
    "\n",
    "std = (partial_1*std_reg_shim+partial_2*std_reg_trans+partial_3*std_reg_reg)**1/2\n",
    "\n",
    "CRW_PLUS = mean_3+std\n",
    "CRW_MINUS = mean_3-std\n",
    "\n",
    "print(\"Standard deviation of REG:\",std)\n",
    "print(\"CWR_PLUS\",CRW_PLUS)\n",
    "print(\"CRW_MINUS\",CRW_MINUS)\n",
    "print('REG:',mean_3, '±',std)\n"
   ]
  },
  {
   "cell_type": "code",
   "execution_count": null,
   "id": "7922ea38",
   "metadata": {},
   "outputs": [],
   "source": []
  }
 ],
 "metadata": {
  "kernelspec": {
   "display_name": "Python 3 (ipykernel)",
   "language": "python",
   "name": "python3"
  },
  "language_info": {
   "codemirror_mode": {
    "name": "ipython",
    "version": 3
   },
   "file_extension": ".py",
   "mimetype": "text/x-python",
   "name": "python",
   "nbconvert_exporter": "python",
   "pygments_lexer": "ipython3",
   "version": "3.9.13"
  }
 },
 "nbformat": 4,
 "nbformat_minor": 5
}
